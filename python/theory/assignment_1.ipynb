{
 "cells": [
  {
   "cell_type": "markdown",
   "metadata": {},
   "source": [
    "Q1)\n",
    "1)* - expression\n",
    "2)'hello' - value\n",
    "3)-87.8    - value\n",
    "4)- - expression\n",
    "5)/ - expression \n",
    "6)+ - expression\n",
    "7)6 - value\n"
   ]
  },
  {
   "cell_type": "markdown",
   "metadata": {},
   "source": [
    "Q2)\n",
    "string is a data type.\n",
    "variable stors data. \n",
    "\n",
    "eg.a = \"abc\"\n",
    "here a is a variable of string datatype\n",
    "  \n"
   ]
  },
  {
   "cell_type": "markdown",
   "metadata": {},
   "source": [
    "Q3)\n",
    "1)int - store whole number \n",
    "2)string - stores character or series of characters\n",
    "3)flote - stores floting values"
   ]
  },
  {
   "cell_type": "raw",
   "metadata": {},
   "source": [
    "Q4)\n",
    "Expressions are made up of operands and operators.\n",
    "Expression returns values. \n",
    "Eg. a = 5+ 4\n",
    "where ' a=5+4 ' is a expression which returns a = 9. "
   ]
  },
  {
   "cell_type": "markdown",
   "metadata": {},
   "source": [
    "Q5)\n",
    "statment is a instruction which is executed by python interpretor.\n",
    "Expression are made up of operator, values, variable"
   ]
  },
  {
   "cell_type": "markdown",
   "metadata": {},
   "source": [
    "Q6) 23\n"
   ]
  },
  {
   "cell_type": "markdown",
   "metadata": {},
   "source": [
    "Q7)\n",
    "1- 'spamspamspam' \n",
    "2- amspamspam'\n"
   ]
  },
  {
   "cell_type": "markdown",
   "metadata": {},
   "source": [
    "Q8)In python variable name must start with letter like a,b,c,ect or underscore hence eggs is valid and 100 is in valid "
   ]
  },
  {
   "cell_type": "markdown",
   "metadata": {},
   "source": [
    "Q9)\n",
    "int()\n",
    "flote()\n",
    "str()\n"
   ]
  },
  {
   "cell_type": "markdown",
   "metadata": {},
   "source": [
    "Q10) 99 is an int value and others are string.\n",
    " for fix this error we have to perform typecasting."
   ]
  }
 ],
 "metadata": {
  "kernelspec": {
   "display_name": "Python 3",
   "language": "python",
   "name": "python3"
  },
  "language_info": {
   "codemirror_mode": {
    "name": "ipython",
    "version": 3
   },
   "file_extension": ".py",
   "mimetype": "text/x-python",
   "name": "python",
   "nbconvert_exporter": "python",
   "pygments_lexer": "ipython3",
   "version": "3.8.3"
  }
 },
 "nbformat": 4,
 "nbformat_minor": 4
}
