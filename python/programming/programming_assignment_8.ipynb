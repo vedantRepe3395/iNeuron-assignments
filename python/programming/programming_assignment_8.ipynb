{
 "cells": [
  {
   "cell_type": "markdown",
   "metadata": {},
   "source": [
    "### 1. Write a Python Program to Add Two Matrices?"
   ]
  },
  {
   "cell_type": "code",
   "execution_count": 20,
   "metadata": {},
   "outputs": [
    {
     "name": "stdout",
     "output_type": "stream",
     "text": [
      "enter number of rows3\n",
      "enter number of clm 3\n",
      "matrix 1:\n",
      "enter row 1 2 3\n",
      "enter row 1 2 3\n",
      "enter row 1 2 3\n",
      "matrix 2:\n",
      "enter row1 2 3\n",
      "enter row1 2 3\n",
      "enter row1 2 3\n",
      "[[2, 4, 6], [2, 4, 6], [2, 4, 6]]\n"
     ]
    }
   ],
   "source": [
    "n = int(input('enter number of rows'))\n",
    "k = int(input('enter number of clm '))\n",
    "a = []\n",
    "print('matrix 1:')\n",
    "for i in range(n):\n",
    "    a.append(list(map(int,input('enter row ').split()))[:k])\n",
    "     \n",
    "b = []\n",
    "print('matrix 2:')\n",
    "for i in range(n):\n",
    "    b.append(list(map(int,input('enter row').split()))[:k])\n",
    "\n",
    "\n",
    "c = [[a[i][j]+b[i][j] for j in range(k)] for i in range (n)]\n",
    "print(\"add:\",c)"
   ]
  },
  {
   "cell_type": "markdown",
   "metadata": {},
   "source": [
    "### 2. Write a Python Program to Multiply Two Matrices?"
   ]
  },
  {
   "cell_type": "code",
   "execution_count": 17,
   "metadata": {},
   "outputs": [
    {
     "name": "stdout",
     "output_type": "stream",
     "text": [
      "enter number of rows3\n",
      "enter number of clm 3\n",
      "matrix 1:\n",
      "enter row 1 2 3\n",
      "enter row 1 2 3\n",
      "enter row 1 2 3\n",
      "[[1, 2, 3], [1, 2, 3], [1, 2, 3]]\n",
      "matrix 2:\n",
      "enter row1 2 3\n",
      "enter row1 2 3\n",
      "enter row1 2 3\n",
      "[[1, 2, 3], [1, 2, 3], [1, 2, 3]]\n",
      "[[6, 12, 18], [6, 12, 18], [6, 12, 18]]\n"
     ]
    }
   ],
   "source": [
    "n = int(input('enter number of rows'))\n",
    "k = int(input('enter number of clm '))\n",
    "a = []\n",
    "print('matrix 1:')\n",
    "for i in range(n):\n",
    "    a.append(list(map(int,input('enter row ').split()))[:k])\n",
    "    \n",
    "b = []\n",
    "print('matrix 2:')\n",
    "for i in range(n):\n",
    "    b.append(list(map(int,input('enter row').split()))[:k])\n",
    "\n",
    "\n",
    "c = [[0 for j in range(k)] for i in range (n)]\n",
    "\n",
    "for i in range(len(a)): \n",
    "   for j in range(len(b[0])): \n",
    "      for l in range(len(b)): \n",
    "        c[i][j] += a[i][l] * a[l][j] \n",
    "\n",
    "print(c)"
   ]
  },
  {
   "cell_type": "markdown",
   "metadata": {},
   "source": [
    "### 3.Write a Python Program to Transpose a Matrix?"
   ]
  },
  {
   "cell_type": "code",
   "execution_count": 18,
   "metadata": {},
   "outputs": [
    {
     "name": "stdout",
     "output_type": "stream",
     "text": [
      "enter number of rows3\n",
      "enter number of clm 3\n",
      "matrix 1:\n",
      "enter row 1 2 3\n",
      "enter row 1 2 3\n",
      "enter row 1 2 3\n",
      "[[1, 1, 1], [2, 2, 2], [3, 3, 3]]\n"
     ]
    }
   ],
   "source": [
    "n = int(input('enter number of rows'))\n",
    "k = int(input('enter number of clm '))\n",
    "a = []\n",
    "print('matrix 1:')\n",
    "for i in range(n):\n",
    "    a.append(list(map(int,input('enter row ').split()))[:k])\n",
    "\n",
    "\n",
    "c = [[a[j][i] for j in range(k)] for i in range (n)]\n",
    "print(c)"
   ]
  },
  {
   "cell_type": "markdown",
   "metadata": {
    "scrolled": true
   },
   "source": [
    "### 4. Write a Python Program to Sort Words in Alphabetic Order?"
   ]
  },
  {
   "cell_type": "code",
   "execution_count": 2,
   "metadata": {},
   "outputs": [
    {
     "name": "stdout",
     "output_type": "stream",
     "text": [
      "Write a Python Program to Sort Words in Alphabetic Order\n",
      "['Alphabetic', 'Order', 'Program', 'Python', 'Sort', 'Words', 'Write', 'a', 'in', 'to']\n"
     ]
    }
   ],
   "source": [
    "a = list(map(str,input().split()))\n",
    "a.sort()\n",
    "print(a)"
   ]
  },
  {
   "cell_type": "markdown",
   "metadata": {},
   "source": [
    "### 5. Write a Python Program to Remove Punctuation From a String?"
   ]
  },
  {
   "cell_type": "code",
   "execution_count": 8,
   "metadata": {},
   "outputs": [
    {
     "name": "stdout",
     "output_type": "stream",
     "text": [
      "### 5. Write a Python Program to Remove Punctuation From a String?\n",
      " 5 Write a Python Program to Remove Punctuation From a String\n"
     ]
    }
   ],
   "source": [
    "a = input()\n",
    "c = '' \n",
    "b = '''!()-[]{};:'\"\\,<>./?@#$%^&*_~'''\n",
    "for i in  a :\n",
    "    if i not in b :\n",
    "        c =c+i\n",
    "\n",
    "print(c)"
   ]
  },
  {
   "cell_type": "code",
   "execution_count": null,
   "metadata": {},
   "outputs": [],
   "source": []
  }
 ],
 "metadata": {
  "kernelspec": {
   "display_name": "Python 3",
   "language": "python",
   "name": "python3"
  },
  "language_info": {
   "codemirror_mode": {
    "name": "ipython",
    "version": 3
   },
   "file_extension": ".py",
   "mimetype": "text/x-python",
   "name": "python",
   "nbconvert_exporter": "python",
   "pygments_lexer": "ipython3",
   "version": "3.8.3"
  }
 },
 "nbformat": 4,
 "nbformat_minor": 4
}
