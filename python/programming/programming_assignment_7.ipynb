{
 "cells": [
  {
   "cell_type": "markdown",
   "metadata": {},
   "source": [
    "### 1. Write a Python Program to find sum of array?"
   ]
  },
  {
   "cell_type": "code",
   "execution_count": 1,
   "metadata": {},
   "outputs": [
    {
     "name": "stdout",
     "output_type": "stream",
     "text": [
      "1 2 3 \n",
      "6\n"
     ]
    }
   ],
   "source": [
    "a = list(map(int,input().split()))\n",
    "print(sum(a))"
   ]
  },
  {
   "cell_type": "markdown",
   "metadata": {},
   "source": [
    "### 2. Write a Python Program to find largest element in an array?"
   ]
  },
  {
   "cell_type": "code",
   "execution_count": 3,
   "metadata": {},
   "outputs": [
    {
     "name": "stdout",
     "output_type": "stream",
     "text": [
      "1 2 3\n",
      "3\n"
     ]
    }
   ],
   "source": [
    "a = list(map(int,input().split()))\n",
    "print(max(a))"
   ]
  },
  {
   "cell_type": "markdown",
   "metadata": {},
   "source": [
    "### 3. Write a Python Program for array rotation?"
   ]
  },
  {
   "cell_type": "code",
   "execution_count": 4,
   "metadata": {},
   "outputs": [
    {
     "name": "stdout",
     "output_type": "stream",
     "text": [
      "enter array elements1 2 3 4\n",
      "how many postion to rotate1\n",
      "[2, 3, 4, 1]\n"
     ]
    }
   ],
   "source": [
    "a = list(map(int,input('enter array elements').split()))\n",
    "b =  int (input('how many postion to rotate'))\n",
    "for i in range(b):\n",
    "    temp = a[0]\n",
    "    a.remove(temp)\n",
    "    a.append(temp)\n",
    "print(a)"
   ]
  },
  {
   "cell_type": "markdown",
   "metadata": {},
   "source": [
    "### 4. Write a Python Program to Split the array and add the first part to the end?"
   ]
  },
  {
   "cell_type": "code",
   "execution_count": 7,
   "metadata": {},
   "outputs": [
    {
     "name": "stdout",
     "output_type": "stream",
     "text": [
      "enter array elements1 2 3 4\n",
      "elements to split1\n",
      "[2, 3, 4, 1]\n"
     ]
    }
   ],
   "source": [
    "a = list(map(int,input('enter array elements').split()))\n",
    "b = int(input('elements to split'))\n",
    "c = a[:b]\n",
    "for i in range(b):\n",
    "    a.remove(a[i])\n",
    "a = a+c\n",
    "print(a)"
   ]
  },
  {
   "cell_type": "markdown",
   "metadata": {},
   "source": [
    "### 5. Write a Python Program to check if given array is Monotonic?"
   ]
  },
  {
   "cell_type": "code",
   "execution_count": 23,
   "metadata": {},
   "outputs": [
    {
     "name": "stdout",
     "output_type": "stream",
     "text": [
      "enter array elements5 3 2\n",
      "True\n"
     ]
    }
   ],
   "source": [
    "def check_monotonic(a) :\n",
    "    inc = True\n",
    "    dec = True\n",
    "    for i in range(len(a)-1):\n",
    "        if a[i]<a[i+1]:\n",
    "            inc = False\n",
    "    for i in range(len(a)-1):\n",
    "        if a[i] > a[i+1]:\n",
    "            dec = False\n",
    "    return inc or dec\n",
    "    \n",
    "a = list(map(int,input('enter array elements').split()))\n",
    "print(check_monotonic(a))"
   ]
  },
  {
   "cell_type": "code",
   "execution_count": null,
   "metadata": {},
   "outputs": [],
   "source": []
  },
  {
   "cell_type": "code",
   "execution_count": null,
   "metadata": {},
   "outputs": [],
   "source": []
  }
 ],
 "metadata": {
  "kernelspec": {
   "display_name": "Python 3",
   "language": "python",
   "name": "python3"
  },
  "language_info": {
   "codemirror_mode": {
    "name": "ipython",
    "version": 3
   },
   "file_extension": ".py",
   "mimetype": "text/x-python",
   "name": "python",
   "nbconvert_exporter": "python",
   "pygments_lexer": "ipython3",
   "version": "3.8.3"
  }
 },
 "nbformat": 4,
 "nbformat_minor": 4
}
