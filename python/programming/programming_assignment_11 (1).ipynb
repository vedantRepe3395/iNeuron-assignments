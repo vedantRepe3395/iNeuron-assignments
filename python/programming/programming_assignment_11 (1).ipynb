{
 "cells": [
  {
   "cell_type": "markdown",
   "metadata": {},
   "source": [
    "### 1. Write a Python program to find words which are greater than given length k?"
   ]
  },
  {
   "cell_type": "code",
   "execution_count": 2,
   "metadata": {},
   "outputs": [
    {
     "name": "stdout",
     "output_type": "stream",
     "text": [
      "enter stringasdf\n",
      "enter number2\n",
      "lenght is greaer than  2\n"
     ]
    }
   ],
   "source": [
    "a = input('enter string')\n",
    "k = int(input('enter number'))\n",
    "if len(a)>k:\n",
    "    print(\"lenght is greaer than \",k)\n",
    "else:\n",
    "    print(\"lenth is not greater than \",k)"
   ]
  },
  {
   "cell_type": "markdown",
   "metadata": {},
   "source": [
    "### 2. Write a Python program for removing i-th character from a string?\n"
   ]
  },
  {
   "cell_type": "code",
   "execution_count": 3,
   "metadata": {},
   "outputs": [
    {
     "name": "stdout",
     "output_type": "stream",
     "text": [
      "enter stringasdfasdf\n",
      "enter index0\n",
      "sdfasdf\n"
     ]
    }
   ],
   "source": [
    "a = input('enter string')\n",
    "k = int(input('enter index'))\n",
    "a = a[:k]+a[k+1:]\n",
    "print(a)"
   ]
  },
  {
   "cell_type": "markdown",
   "metadata": {},
   "source": [
    "### 3. Write a Python program to split and join a string?"
   ]
  },
  {
   "cell_type": "code",
   "execution_count": 9,
   "metadata": {},
   "outputs": [
    {
     "name": "stdout",
     "output_type": "stream",
     "text": [
      "enter stinga s d f\n",
      "a s d f\n",
      "['a', 's', 'd', 'f']\n",
      "a#s#d#f\n"
     ]
    }
   ],
   "source": [
    "a = input('enter sting')\n",
    "print(a)\n",
    "splited_a=a.split()\n",
    "print(splited_a)\n",
    "join_a = \"#\".join(splited_a)\n",
    "print(join_a)"
   ]
  },
  {
   "cell_type": "markdown",
   "metadata": {},
   "source": [
    "### 4. Write a Python to check if a given string is binary string or not?"
   ]
  },
  {
   "cell_type": "code",
   "execution_count": 11,
   "metadata": {},
   "outputs": [
    {
     "name": "stdout",
     "output_type": "stream",
     "text": [
      "enter stringasdfasdf\n",
      "sting is not binary\n"
     ]
    }
   ],
   "source": [
    "a = input('enter string')\n",
    "b = set(a)\n",
    "c = {0,1}\n",
    "if b == c or b =={0} or b =={1}:\n",
    "    print(\"string is binary\")\n",
    "else:print(\"sting is not binary\")"
   ]
  },
  {
   "cell_type": "markdown",
   "metadata": {},
   "source": [
    "### 5. Write a Python program to find uncommon words from two Strings?"
   ]
  },
  {
   "cell_type": "code",
   "execution_count": 13,
   "metadata": {},
   "outputs": [
    {
     "name": "stdout",
     "output_type": "stream",
     "text": [
      "asdf asdf \n",
      "zxcv zxcv\n",
      "zxcv asdf\n"
     ]
    }
   ],
   "source": [
    "a = input()\n",
    "b = input()\n",
    "a = list(a.split())\n",
    "b = list(b.split())\n",
    "c = set(a+b)\n",
    "print(\" \".join(c))"
   ]
  },
  {
   "cell_type": "markdown",
   "metadata": {},
   "source": [
    "### 6. Write a Python to find all duplicate characters in string?"
   ]
  },
  {
   "cell_type": "code",
   "execution_count": 18,
   "metadata": {},
   "outputs": [
    {
     "name": "stdout",
     "output_type": "stream",
     "text": [
      "asdfasdfasdf\n",
      "a\n",
      "s\n",
      "d\n",
      "f\n"
     ]
    }
   ],
   "source": [
    "a = input()\n",
    "l = \"\"\n",
    "for i in a:\n",
    "    if a.count(i)>1 and i not in l:\n",
    "        l+=i\n",
    "        print(i)\n",
    "        "
   ]
  },
  {
   "cell_type": "markdown",
   "metadata": {},
   "source": [
    "### 7. Write a Python Program to check if a string contains any special character?"
   ]
  },
  {
   "cell_type": "code",
   "execution_count": 15,
   "metadata": {},
   "outputs": [
    {
     "name": "stdout",
     "output_type": "stream",
     "text": [
      "asdf!231@#$\n",
      "!\n",
      "@\n",
      "#\n",
      "$\n"
     ]
    }
   ],
   "source": [
    "a = input()\n",
    "b = \"[@_!#$%^&*()<>?/\\|}{~:]\"\n",
    "for i in a:\n",
    "    if i in b:\n",
    "        print(i)"
   ]
  },
  {
   "cell_type": "code",
   "execution_count": null,
   "metadata": {},
   "outputs": [],
   "source": []
  }
 ],
 "metadata": {
  "kernelspec": {
   "display_name": "Python 3",
   "language": "python",
   "name": "python3"
  },
  "language_info": {
   "codemirror_mode": {
    "name": "ipython",
    "version": 3
   },
   "file_extension": ".py",
   "mimetype": "text/x-python",
   "name": "python",
   "nbconvert_exporter": "python",
   "pygments_lexer": "ipython3",
   "version": "3.8.3"
  }
 },
 "nbformat": 4,
 "nbformat_minor": 4
}
