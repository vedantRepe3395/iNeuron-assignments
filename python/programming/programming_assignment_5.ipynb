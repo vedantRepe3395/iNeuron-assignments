{
 "cells": [
  {
   "cell_type": "markdown",
   "metadata": {},
   "source": [
    "### 1. Write a Python Program to Find LCM?"
   ]
  },
  {
   "cell_type": "code",
   "execution_count": 2,
   "metadata": {},
   "outputs": [
    {
     "name": "stdout",
     "output_type": "stream",
     "text": [
      "54 24\n",
      "216\n"
     ]
    }
   ],
   "source": [
    "a,b = map(int, input().split())\n",
    "l = max(a,b)\n",
    "while (True):\n",
    "    if l%a==0 and l%b==0:\n",
    "        print(l)\n",
    "        break\n",
    "    l=l+1"
   ]
  },
  {
   "cell_type": "markdown",
   "metadata": {},
   "source": [
    "### 2. Write a Python Program to Find HCF?"
   ]
  },
  {
   "cell_type": "code",
   "execution_count": 3,
   "metadata": {},
   "outputs": [
    {
     "name": "stdout",
     "output_type": "stream",
     "text": [
      "54 24\n",
      "6\n"
     ]
    }
   ],
   "source": [
    "a,b = map(int, input().split())\n",
    "for i in range(1,min(a,b)):\n",
    "    if a%i==0 and b%i==0:\n",
    "        l=i\n",
    "print(l)\n",
    "    "
   ]
  },
  {
   "cell_type": "markdown",
   "metadata": {},
   "source": [
    "### 3. Write a Python Program to Convert Decimal to Binary, Octal and Hexadecimal?"
   ]
  },
  {
   "cell_type": "code",
   "execution_count": 5,
   "metadata": {},
   "outputs": [
    {
     "name": "stdout",
     "output_type": "stream",
     "text": [
      "1\n",
      "binary : 0b1\n",
      "octal : 0o1\n",
      "hexadecimal : 0x1\n"
     ]
    }
   ],
   "source": [
    "n = int(input())\n",
    "\n",
    "print(\"binary :\",bin(n))\n",
    "print(\"octal :\",oct(n))\n",
    "print(\"hexadecimal :\",hex(n))"
   ]
  },
  {
   "cell_type": "markdown",
   "metadata": {},
   "source": [
    "### 4. Write a Python Program To Find ASCII value of a character?"
   ]
  },
  {
   "cell_type": "code",
   "execution_count": 7,
   "metadata": {},
   "outputs": [
    {
     "name": "stdout",
     "output_type": "stream",
     "text": [
      "a\n",
      "97\n"
     ]
    }
   ],
   "source": [
    "n = input()\n",
    "print(ord(n))"
   ]
  },
  {
   "cell_type": "markdown",
   "metadata": {},
   "source": [
    "### 5. Write a Python Program to Make a Simple Calculator with 4 basic mathematical operations?"
   ]
  },
  {
   "cell_type": "code",
   "execution_count": 9,
   "metadata": {},
   "outputs": [
    {
     "name": "stdout",
     "output_type": "stream",
     "text": [
      "insert value 120\n",
      "insert value 220\n",
      "select opertion:\n",
      "1.Add \n",
      "2.Sub \n",
      "3.Mult \n",
      "4.Div\n",
      "5\n",
      "slect correct operation\n",
      "select opertion:\n",
      "1.Add \n",
      "2.Sub \n",
      "3.Mult \n",
      "4.Div\n",
      "4\n",
      "1.0\n"
     ]
    }
   ],
   "source": [
    "a = int(input('insert value 1'))\n",
    "b = int(input('insert value 2'))\n",
    "while(True):\n",
    "    print(\"select opertion:\")\n",
    "    print(\"1.Add \\n2.Sub \\n3.Mult \\n4.Div\")\n",
    "    p = int(input())\n",
    "\n",
    "    if p ==1:\n",
    "        print(a+b)\n",
    "        break\n",
    "    elif p==2:\n",
    "        print(a-b)\n",
    "        break\n",
    "    elif p==3:\n",
    "        print(a*b)\n",
    "        break\n",
    "    elif p==4:\n",
    "        print(a/b)\n",
    "        break\n",
    "    else:\n",
    "        print(\"slect correct operation\")"
   ]
  },
  {
   "cell_type": "code",
   "execution_count": null,
   "metadata": {},
   "outputs": [],
   "source": []
  }
 ],
 "metadata": {
  "kernelspec": {
   "display_name": "Python 3",
   "language": "python",
   "name": "python3"
  },
  "language_info": {
   "codemirror_mode": {
    "name": "ipython",
    "version": 3
   },
   "file_extension": ".py",
   "mimetype": "text/x-python",
   "name": "python",
   "nbconvert_exporter": "python",
   "pygments_lexer": "ipython3",
   "version": "3.8.3"
  }
 },
 "nbformat": 4,
 "nbformat_minor": 4
}
